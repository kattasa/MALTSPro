{
 "cells": [
  {
   "cell_type": "code",
   "execution_count": 2,
   "metadata": {},
   "outputs": [],
   "source": [
    "import pymaltspro as pmp\n",
    "import pymalts as pm\n",
    "import pandas as pd\n",
    "import numpy as np\n",
    "import matplotlib.pyplot as plt\n",
    "import pickle\n",
    "import wasserstein_trees as wstree"
   ]
  },
  {
   "cell_type": "markdown",
   "metadata": {},
   "source": [
    "# Synthetic dataset -- MALTS"
   ]
  },
  {
   "cell_type": "raw",
   "metadata": {},
   "source": [
    "np.random.seed(99)\n",
    "n_units = 1000\n",
    "n_samples_per_unit = 1001\n",
    "y_values = []\n",
    "x1_values = []\n",
    "x2_values = []\n",
    "x3_values = [] # nuisance parameter\n",
    "treated_values = []\n",
    "for i in range(n_units):\n",
    "    beta_mean = -1\n",
    "    x1 = np.random.binomial(n = 1, p = 0.7, size = 1)\n",
    "    if x1 == 0:\n",
    "        x2 = np.random.binomial(n = 1, p = 0.5, size = 1)\n",
    "        if x2 == 0:\n",
    "            treated = np.random.binomial(n = 1, p = 0.6, size = 1)\n",
    "            if treated == 0:\n",
    "                while beta_mean <= 0:\n",
    "                    beta_mean = np.random.normal(loc = 2, scale = 0.5, size = 1)\n",
    "                y_i = np.random.beta(a = beta_mean, b = 40, size = n_samples_per_unit)\n",
    "                y_i = beta_mean\n",
    "            if treated == 1:\n",
    "                while beta_mean <= 0:\n",
    "                    beta_mean = np.random.normal(loc = 4, scale = 0.5, size = 1)\n",
    "                y_i = np.random.beta(a = beta_mean, b = 80, size = n_samples_per_unit)            \n",
    "                y_i = beta_mean\n",
    "        if x2 == 1:\n",
    "            treated = np.random.binomial(n = 1, p = 0.5, size = 1)\n",
    "            if treated == 0:\n",
    "                while beta_mean <= 0:\n",
    "                    beta_mean = np.random.normal(loc = 1.5, scale = 0.5, size = 1)\n",
    "                y_i = np.random.beta(a = beta_mean, b = 30, size = n_samples_per_unit)\n",
    "                y_i = beta_mean\n",
    "            if treated == 0:\n",
    "                while beta_mean <= 0:\n",
    "                    beta_mean = np.random.normal(loc = 4.5, scale = 0.5, size = 1)\n",
    "                y_i = np.random.beta(a = beta_mean, b = 90, size = n_samples_per_unit)\n",
    "                y_i = beta_mean\n",
    "    if x1 == 1:\n",
    "        x2 = np.random.binomial(n = 1, p = 0.4, size = 1)\n",
    "        if x2 == 0:\n",
    "            treated = np.random.binomial(n = 1, p = 0.4, size = 1)\n",
    "            if treated == 0:\n",
    "                while beta_mean <= 0:\n",
    "                    beta_mean = np.random.normal(loc = 2.5, scale = 0.5, size = 1)\n",
    "                y_i = np.random.beta(a = beta_mean, b = 50, size = n_samples_per_unit)\n",
    "                y_i = beta_mean\n",
    "            if treated == 1:\n",
    "                while beta_mean <= 0:\n",
    "                    beta_mean = np.random.normal(loc = 5, scale = 0.5, size = 1)\n",
    "                y_i = np.random.beta(a = beta_mean, b = 100, size = n_samples_per_unit)\n",
    "                y_i = beta_mean\n",
    "        if x2 == 1:\n",
    "            treated = np.random.binomial(n = 1, p = 0.3, size = 1)\n",
    "            if treated == 0:\n",
    "                while beta_mean <= 0:\n",
    "                    beta_mean = np.random.normal(loc = 1, scale = 0.5, size = 1)\n",
    "                y_i = np.random.beta(a = beta_mean, b = 20, size = n_samples_per_unit)\n",
    "                y_i = beta_mean\n",
    "            if treated == 1:\n",
    "                while beta_mean <= 0:\n",
    "                    beta_mean = np.random.normal(loc = 6, scale = 0.5, size = 1)\n",
    "                y_i = np.random.beta(a = beta_mean, b = 120, size = n_samples_per_unit)\n",
    "                y_i = beta_mean\n",
    "    x3 = np.random.binomial(n = 1, p = 0.5, size = 1)\n",
    "    y_values.append(y_i)\n",
    "    x1_values.append(x1[0])\n",
    "    x2_values.append(x2[0])\n",
    "    x3_values.append(x3[0])\n",
    "    treated_values.append(treated[0])"
   ]
  },
  {
   "cell_type": "raw",
   "metadata": {},
   "source": [
    "Y = np.array(y_values)\n",
    "X_df = pd.DataFrame(\n",
    "    {\n",
    "        'x1' : x1_values,\n",
    "        'x2' : x2_values,\n",
    "#         'x3' : x3_values,\n",
    "        'treatment' : treated_values,\n",
    "    }\n",
    ")"
   ]
  },
  {
   "cell_type": "raw",
   "metadata": {},
   "source": [
    "df = X_df.assign(Y = Y)"
   ]
  },
  {
   "cell_type": "raw",
   "metadata": {},
   "source": [
    "pm_object = pm.malts(outcome = 'Y',\n",
    "    treatment = 'treatment',\n",
    "    data = df,\n",
    "    discrete=['x1', 'x2'],\n",
    "    C=0.01,\n",
    "    k=10,\n",
    "    reweight=False)"
   ]
  },
  {
   "cell_type": "raw",
   "metadata": {},
   "source": [
    "pm_object.fit()"
   ]
  },
  {
   "cell_type": "markdown",
   "metadata": {},
   "source": [
    "# Synthetic Dataset - MALTSPro"
   ]
  },
  {
   "cell_type": "raw",
   "metadata": {},
   "source": [
    "np.random.seed(99)\n",
    "n_units = 1000\n",
    "n_samples_per_unit = 1001\n",
    "y_values = []\n",
    "x1_values = []\n",
    "x2_values = []\n",
    "x3_values = [] # nuisance parameter\n",
    "treated_values = []\n",
    "for i in range(n_units):\n",
    "    beta_mean = -1\n",
    "    x1 = np.random.binomial(n = 1, p = 0.7, size = 1)\n",
    "    if x1 == 0:\n",
    "        x2 = np.random.binomial(n = 1, p = 0.5, size = 1)\n",
    "        if x2 == 0:\n",
    "            treated = np.random.binomial(n = 1, p = 0.6, size = 1)\n",
    "            if treated == 0:\n",
    "                while beta_mean <= 0:\n",
    "                    beta_mean = np.random.normal(loc = 2, scale = 0.5, size = 1)\n",
    "                y_i = np.random.beta(a = beta_mean, b = 40, size = n_samples_per_unit)\n",
    "            if treated == 1:\n",
    "                while beta_mean <= 0:\n",
    "                    beta_mean = np.random.normal(loc = 4, scale = 0.5, size = 1)\n",
    "                y_i = np.random.beta(a = beta_mean, b = 80, size = n_samples_per_unit)            \n",
    "        if x2 == 1:\n",
    "            treated = np.random.binomial(n = 1, p = 0.5, size = 1)\n",
    "            if treated == 0:\n",
    "                while beta_mean <= 0:\n",
    "                    beta_mean = np.random.normal(loc = 1.5, scale = 0.5, size = 1)\n",
    "                y_i = np.random.beta(a = beta_mean, b = 30, size = n_samples_per_unit)\n",
    "            if treated == 0:\n",
    "                while beta_mean <= 0:\n",
    "                    beta_mean = np.random.normal(loc = 4.5, scale = 0.5, size = 1)\n",
    "                y_i = np.random.beta(a = beta_mean, b = 90, size = n_samples_per_unit)\n",
    "    if x1 == 1:\n",
    "        x2 = np.random.binomial(n = 1, p = 0.4, size = 1)\n",
    "        if x2 == 0:\n",
    "            treated = np.random.binomial(n = 1, p = 0.4, size = 1)\n",
    "            if treated == 0:\n",
    "                while beta_mean <= 0:\n",
    "                    beta_mean = np.random.normal(loc = 2.5, scale = 0.5, size = 1)\n",
    "                y_i = np.random.beta(a = beta_mean, b = 50, size = n_samples_per_unit)\n",
    "            if treated == 1:\n",
    "                while beta_mean <= 0:\n",
    "                    beta_mean = np.random.normal(loc = 5, scale = 0.5, size = 1)\n",
    "                y_i = np.random.beta(a = beta_mean, b = 100, size = n_samples_per_unit)\n",
    "        if x2 == 1:\n",
    "            treated = np.random.binomial(n = 1, p = 0.3, size = 1)\n",
    "            if treated == 0:\n",
    "                while beta_mean <= 0:\n",
    "                    beta_mean = np.random.normal(loc = 1, scale = 0.5, size = 1)\n",
    "                y_i = np.random.beta(a = beta_mean, b = 20, size = n_samples_per_unit)\n",
    "            if treated == 1:\n",
    "                while beta_mean <= 0:\n",
    "                    beta_mean = np.random.normal(loc = 6, scale = 0.5, size = 1)\n",
    "                y_i = np.random.beta(a = beta_mean, b = 120, size = n_samples_per_unit)\n",
    "    x3 = np.random.binomial(n = 1, p = 0.5, size = 1)\n",
    "    y_values.append(y_i)\n",
    "    x1_values.append(x1[0])\n",
    "    x2_values.append(x2[0])\n",
    "    x3_values.append(x3[0])\n",
    "    treated_values.append(treated[0])"
   ]
  },
  {
   "cell_type": "raw",
   "metadata": {},
   "source": [
    "Y = np.array(y_values)\n",
    "X_df = pd.DataFrame(\n",
    "    {\n",
    "        'x1' : x1_values,\n",
    "        'x2' : x2_values,\n",
    "#         'x3' : x3_values,\n",
    "        'treatment' : treated_values,\n",
    "    }\n",
    ")"
   ]
  },
  {
   "cell_type": "markdown",
   "metadata": {},
   "source": [
    "# Synthetic dataset used in Linbo's paper"
   ]
  },
  {
   "cell_type": "code",
   "execution_count": 90,
   "metadata": {},
   "outputs": [],
   "source": [
    "def sample_from_qtl_fn(X_i, A_i, exp_treatment_prob, error_i, qtl_list):\n",
    "    y_i = []\n",
    "    for qtl in qtl_list:\n",
    "        y_i.append((-exp_treatment_prob + A_i + X_i + error_i) * np.sin(np.pi * qtl)/8 + qtl)\n",
    "    return y_i\n",
    "def sample_from_qtl_fn_cf(X_i, A_i, exp_treatment_prob, error_i, qtl_list):\n",
    "    y_i = []\n",
    "    for qtl in qtl_list:\n",
    "        y_i.append((-exp_treatment_prob + (1 - A_i) + X_i + error_i) * np.sin(np.pi * qtl)/8 + qtl)\n",
    "    return y_i\n",
    "\n",
    "np.random.seed(100)\n",
    "n_units = 1000\n",
    "n_obs_per_unit = 1001\n",
    "feature_x = np.random.uniform(low = -1, high = 1, size = n_units)\n",
    "treatment_probs = np.apply_along_axis(arr = feature_x, \n",
    "                                axis = 0, \n",
    "                                func1d = lambda x: np.exp(x)/(1 + np.exp(x)))\n",
    "treatment = np.array([np.random.binomial(n = 1, p = i) for i in treatment_probs])\n",
    "expectation_treatment = np.mean(treatment_probs)\n",
    "error = np.random.uniform(low = -0.5, high = 0.5, size = n_units)\n",
    "y_qtls = np.random.uniform(low = 0, high = 1, size = (n_units, n_obs_per_unit))\n",
    "y_obs = []\n",
    "y_cf  = []\n",
    "for i in range(n_units):\n",
    "    y_obs.append(sample_from_qtl_fn(X_i = feature_x[i],\n",
    "                       A_i = treatment[i],\n",
    "                       exp_treatment_prob = expectation_treatment, \n",
    "                       error_i = error[i],\n",
    "                       qtl_list = y_qtls[i, :]))\n",
    "for i in range(n_units):\n",
    "    y_cf.append(sample_from_qtl_fn_cf(X_i = feature_x[i],\n",
    "                       A_i = treatment[i],\n",
    "                       exp_treatment_prob = expectation_treatment, \n",
    "                       error_i = 0, # should be no noise in counterfactual\n",
    "                       qtl_list = y_qtls[i, :]))\n",
    "y_obs = np.array(y_obs)\n",
    "y_cf  = np.array(y_cf)\n",
    "y_mean = y_obs.mean(axis = 1)\n",
    "y_cf_mean = y_cf.mean(axis = 1)"
   ]
  },
  {
   "cell_type": "code",
   "execution_count": 91,
   "metadata": {},
   "outputs": [],
   "source": [
    "malts_data = pd.DataFrame({\n",
    "    'X' : feature_x,\n",
    "    'treatment' : treatment,\n",
    "    'Y' : y_mean\n",
    "})"
   ]
  },
  {
   "cell_type": "code",
   "execution_count": 92,
   "metadata": {},
   "outputs": [],
   "source": [
    "# split into training and testing\n",
    "np.random.seed(1001)\n",
    "train_test_index = np.random.binomial(n = 1, p = 0.2, size = n_units).astype(bool)\n",
    "train = malts_data.assign(keep = train_test_index).query('keep == 0').drop('keep', 1)\n",
    "valid = malts_data.assign(keep = train_test_index).query('keep == 1').drop('keep', 1)\n",
    "X_train = train.reset_index()\n",
    "X_valid = valid.reset_index()\n",
    "X_train = X_train.drop(['index', 'Y'], axis = 1)\n",
    "X_valid = X_valid.drop(['index', 'Y'], axis = 1)\n",
    "y_train = y_obs[~train_test_index, :]\n",
    "y_valid =  y_obs[train_test_index, :]"
   ]
  },
  {
   "cell_type": "code",
   "execution_count": 6,
   "metadata": {},
   "outputs": [],
   "source": [
    "malts = pm.malts(outcome = 'Y',\n",
    "                 treatment = 'treatment',\n",
    "                 data = train,\n",
    "                 discrete = [],\n",
    "                 C = 0.1,\n",
    "                 k = 10,\n",
    "                 reweight = False)"
   ]
  },
  {
   "cell_type": "code",
   "execution_count": 7,
   "metadata": {},
   "outputs": [
    {
     "name": "stdout",
     "output_type": "stream",
     "text": [
      "CPU times: user 893 ms, sys: 137 ms, total: 1.03 s\n",
      "Wall time: 187 ms\n"
     ]
    },
    {
     "data": {
      "text/plain": [
       "     fun: 0.5325959499489149\n",
       "     jac: array([2.23517418e-08])\n",
       " message: 'Optimization terminated successfully.'\n",
       "    nfev: 13\n",
       "     nit: 4\n",
       "    njev: 4\n",
       "  status: 0\n",
       " success: True\n",
       "       x: array([8.94069521e-08])"
      ]
     },
     "execution_count": 7,
     "metadata": {},
     "output_type": "execute_result"
    }
   ],
   "source": [
    "%%time\n",
    "malts.fit(method = 'SLSQP')"
   ]
  },
  {
   "cell_type": "code",
   "execution_count": 8,
   "metadata": {},
   "outputs": [],
   "source": [
    "malts_mg = malts.get_matched_groups(valid)\n",
    "malts_cate = malts.CATE(MG = malts_mg)\n",
    "malts_ate = malts_cate.CATE.mean()"
   ]
  },
  {
   "cell_type": "code",
   "execution_count": 10,
   "metadata": {},
   "outputs": [],
   "source": [
    "true_ate = ((2 * treatment - 1) * y_mean + (2 * (1 - treatment) - 1) * y_cf_mean).mean()"
   ]
  },
  {
   "cell_type": "markdown",
   "metadata": {},
   "source": [
    "%%time\n",
    "###### Turn this chunk into code block if you want to rerun maltspro on linbo's dataset (takes ~1hr to run)\n",
    "############### # check if it will work for pymaltspro\n",
    "maltspro = pmp.pymaltspro(X = X_train,\n",
    "                          y = y_train, \n",
    "                          treatment = 'treatment', \n",
    "                          discrete = [],\n",
    "                          C = 0.001,\n",
    "                          k = 10)\n",
    "\n",
    "maltspro.fit(method = 'SLSQP')"
   ]
  },
  {
   "cell_type": "code",
   "execution_count": 13,
   "metadata": {},
   "outputs": [],
   "source": [
    "with open('maltspro_linbo.pkl', 'rb') as f:\n",
    "    maltspro = pickle.load(f)"
   ]
  },
  {
   "cell_type": "code",
   "execution_count": 14,
   "metadata": {},
   "outputs": [],
   "source": [
    "# get matched groups\n",
    "mg_df = maltspro.get_matched_groups(X_estimation=X_valid, Y_estimation= y_valid, k =10)"
   ]
  },
  {
   "cell_type": "code",
   "execution_count": 15,
   "metadata": {},
   "outputs": [],
   "source": [
    "# impute counterfactuals using barycenter of k nn\n",
    "y_bary = maltspro.barycenter_imputation(X_estimation=X_valid, Y_estimation= y_valid, MG = mg_df)"
   ]
  },
  {
   "cell_type": "code",
   "execution_count": 7,
   "metadata": {},
   "outputs": [
    {
     "data": {
      "text/plain": [
       "0.499707375"
      ]
     },
     "execution_count": 7,
     "metadata": {},
     "output_type": "execute_result"
    }
   ],
   "source": [
    "import pandas as pd\n",
    "ite_csv = pd.read_csv('./experiments/cont_features/dataset_3020/ITE.csv')\n",
    "ite_csv.ITE_true.mean()"
   ]
  },
  {
   "cell_type": "code",
   "execution_count": 16,
   "metadata": {},
   "outputs": [],
   "source": [
    "# estimate ITE P(A > B | A ~ Y_i(1), B ~ Y_i(0))\n",
    "ite_estimates = []\n",
    "ite_true = []\n",
    "for i in range(y_valid.shape[0]):\n",
    "    ite_estimates.append(ITE(y_estimation = y_valid[i, :], \n",
    "        y_cf = y_bary[i, :], \n",
    "        n_mc_samples = 100000, \n",
    "        observed_treatment = X_valid.loc[0, 'treatment']))\n",
    "    ite_true.append(ITE(y_estimation = y_valid[i, :], \n",
    "        y_cf = y_cf[i, :], \n",
    "        n_mc_samples = 100000, \n",
    "        observed_treatment = X_valid.loc[0, 'treatment']))\n",
    "ite_estimates = np.array(ite_estimates)\n",
    "ite_true = np.array(ite_true)"
   ]
  },
  {
   "cell_type": "code",
   "execution_count": 17,
   "metadata": {},
   "outputs": [
    {
     "data": {
      "text/plain": [
       "0.049756032608695655"
      ]
     },
     "execution_count": 17,
     "metadata": {},
     "output_type": "execute_result"
    }
   ],
   "source": [
    "# see MAE of ITE estimate compared to the \"truth,\" which is estimate after knowing the true counterfactuals\n",
    "np.abs(ite_estimates - ite_true).mean()"
   ]
  },
  {
   "cell_type": "code",
   "execution_count": 18,
   "metadata": {},
   "outputs": [],
   "source": [
    "# estimate barycenter of untreated potential outcome\n",
    "untreated_bary = []\n",
    "for i in range(y_valid.shape[0]):\n",
    "    if X_valid.loc[i, 'treatment'] == 1:\n",
    "        untreated_bary.append(y_valid[i, :])\n",
    "    else:\n",
    "        untreated_bary.append(y_bary[i, :])\n",
    "untreated_bary = pmp.wasserstein2_barycenter(sample_array_1_through_n = np.array(untreated_bary), \n",
    "                                         weights = np.repeat(1/len(untreated_bary), len(untreated_bary)), \n",
    "                                         n_samples_min = maltspro.n_samples_min)\n",
    "untreated_bary_cdf = np.array([untreated_bary, np.linspace(0, 1, untreated_bary.shape[0])])"
   ]
  },
  {
   "cell_type": "code",
   "execution_count": 19,
   "metadata": {},
   "outputs": [],
   "source": [
    "# estimate the ATE using MALTS\n",
    "linbo_ate_array = []\n",
    "for i in range(y_valid.shape[0]):\n",
    "    linbo_ite_array = linbo_ITE(y_obs = y_valid[i, :], \n",
    "              y_cf = y_bary[i, :], \n",
    "              reference_distribution = untreated_bary_cdf, \n",
    "              observed_treatment =X_valid.loc[i, 'treatment'], \n",
    "              y_obs_qtl_id = False\n",
    "             )\n",
    "    linbo_ate_array.append(linbo_ite_array[1, :])\n",
    "linbo_ate_array = np.array(linbo_ate_array).mean(axis = 0)"
   ]
  },
  {
   "cell_type": "code",
   "execution_count": 20,
   "metadata": {},
   "outputs": [],
   "source": [
    "# the true ATE for Linbo's estimator\n",
    "linbo_ate_true = np.array([np.sin(np.pi * t)/8 for t in untreated_bary_cdf[0, :]])"
   ]
  },
  {
   "cell_type": "code",
   "execution_count": 93,
   "metadata": {},
   "outputs": [],
   "source": [
    "# T-learner for wasserstein random forests\n",
    "wrf_control = wstree.wass_forest(X = X_train.query('treatment == 0'), \n",
    "                   y = y_train[X_train.query('treatment == 0').index.values, :],\n",
    "                   y_quantile_id=False,\n",
    "                   min_samples_split=None,\n",
    "                   max_depth=20,\n",
    "                   depth=None,\n",
    "                   node_type=None,\n",
    "                   n_trees=1,\n",
    "                   seed=999,\n",
    "                   n_samples_min=None)\n",
    "\n",
    "wrf_treated = wstree.wass_forest(X = X_train.query('treatment == 1'), \n",
    "                   y = y_train[X_train.query('treatment == 1').index.values, :],\n",
    "                   y_quantile_id=False,\n",
    "                   min_samples_split=None,\n",
    "                   max_depth=20,\n",
    "                   depth=None,\n",
    "                   node_type=None,\n",
    "                   n_trees=1,\n",
    "                   seed=999,\n",
    "                   n_samples_min=None)"
   ]
  },
  {
   "cell_type": "code",
   "execution_count": 94,
   "metadata": {},
   "outputs": [],
   "source": [
    "# predict counterfactual using metalearner\n",
    "def wrf_meta_predict(X_valid, wrf_treated, wrf_control):\n",
    "    y_pred = []\n",
    "    for i in range(X_valid.shape[0]):\n",
    "        if X_valid.loc[i, 'treatment'] == 1:\n",
    "            y_pred.append(wrf_control.predict(X_valid.loc[i:i, :].assign(treatment = 0))[0, :])\n",
    "        else:\n",
    "            y_pred.append(wrf_treated.predict(X_valid.loc[i:i, :].assign(treatment = 1))[0, :])\n",
    "    y_pred = np.array(y_pred)\n",
    "    return y_pred\n",
    "y_wrf_bary = wrf_meta_predict(X_valid, wrf_control=wrf_control, wrf_treated=wrf_treated)"
   ]
  },
  {
   "cell_type": "code",
   "execution_count": 97,
   "metadata": {},
   "outputs": [],
   "source": [
    "# compute P(A > B) for each individual using metalearner\n",
    "ite_wrf_estimates = []\n",
    "for i in range(y_valid.shape[0]):\n",
    "    ite_wrf_estimates.append(\n",
    "        ITE(y_estimation = y_valid[i, :], \n",
    "        y_cf = y_wrf_bary[i, :],\n",
    "        n_mc_samples = 100000,\n",
    "        observed_treatment = X_valid.treatment[i]))\n",
    "ite_wrf_estimates = np.array(ite_wrf_estimates)"
   ]
  },
  {
   "cell_type": "code",
   "execution_count": 99,
   "metadata": {},
   "outputs": [],
   "source": [
    "# calculate Linbo's estimand using the metalearner\n",
    "linbo_ate_wrf_array = []\n",
    "for i in range(y_valid.shape[0]):\n",
    "    linbo_ite_wrf_array = linbo_ITE(y_obs = y_valid[i, :], \n",
    "              y_cf = y_wrf_bary[i, :], \n",
    "              reference_distribution = untreated_bary_cdf, \n",
    "              observed_treatment =X_valid.loc[i, 'treatment'], \n",
    "              y_obs_qtl_id = False\n",
    "             )\n",
    "    linbo_ate_wrf_array.append(linbo_ite_wrf_array[1, :])\n",
    "linbo_ate_wrf_array = np.array(linbo_ate_wrf_array).mean(axis = 0)"
   ]
  },
  {
   "cell_type": "code",
   "execution_count": 101,
   "metadata": {},
   "outputs": [
    {
     "data": {
      "image/png": "[encoded data removed]",
      "text/plain": [
       "<Figure size 432x288 with 1 Axes>"
      ]
     },
     "metadata": {
      "needs_background": "light"
     },
     "output_type": "display_data"
    }
   ],
   "source": [
    "# plot linbo's estimand compared across models\n",
    "plt.plot(linbo_ite_array[0, :], linbo_ate_array, label = 'MALTSPro Estimated ATE', c = 'green')\n",
    "plt.plot(linbo_ite_array[0, :], linbo_ate_true, label = 'True ATE', c = 'black')\n",
    "# plt.legend()\n",
    "# plt.show()\n",
    "plt.plot(linbo_ite_array[0, :], linbo_ate_wrf_array, label = 'Wasserstein Metalearner ATE', c = 'blue')\n",
    "# plt.plot(linbo_ite_array[0, :], linbo_ate_true, label = 'True ATE', c = 'black')\n",
    "plt.legend()\n",
    "plt.show()"
   ]
  }
 ],
 "metadata": {
  "kernelspec": {
   "display_name": "Python 3",
   "language": "python",
   "name": "python3"
  },
  "language_info": {
   "codemirror_mode": {
    "name": "ipython",
    "version": 3
   },
   "file_extension": ".py",
   "mimetype": "text/x-python",
   "name": "python",
   "nbconvert_exporter": "python",
   "pygments_lexer": "ipython3",
   "version": "3.7.4"
  }
 },
 "nbformat": 4,
 "nbformat_minor": 2
}
