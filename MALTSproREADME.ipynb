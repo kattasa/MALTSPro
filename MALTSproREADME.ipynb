{
 "cells": [
  {
   "cell_type": "code",
   "execution_count": 19,
   "metadata": {},
   "outputs": [],
   "source": [
    "import pymaltspro as pmp\n",
    "import pymalts as pm\n",
    "import pandas as pd\n",
    "import numpy as np\n",
    "import matplotlib.pyplot as plt\n",
    "import pickle\n",
    "import wasserstein_trees as wstree"
   ]
  },
  {
   "cell_type": "markdown",
   "metadata": {},
   "source": [
    "# Synthetic dataset -- MALTS"
   ]
  },
  {
   "cell_type": "raw",
   "metadata": {},
   "source": [
    "np.random.seed(99)\n",
    "n_units = 1000\n",
    "n_samples_per_unit = 1001\n",
    "y_values = []\n",
    "x1_values = []\n",
    "x2_values = []\n",
    "x3_values = [] # nuisance parameter\n",
    "treated_values = []\n",
    "for i in range(n_units):\n",
    "    beta_mean = -1\n",
    "    x1 = np.random.binomial(n = 1, p = 0.7, size = 1)\n",
    "    if x1 == 0:\n",
    "        x2 = np.random.binomial(n = 1, p = 0.5, size = 1)\n",
    "        if x2 == 0:\n",
    "            treated = np.random.binomial(n = 1, p = 0.6, size = 1)\n",
    "            if treated == 0:\n",
    "                while beta_mean <= 0:\n",
    "                    beta_mean = np.random.normal(loc = 2, scale = 0.5, size = 1)\n",
    "                y_i = np.random.beta(a = beta_mean, b = 40, size = n_samples_per_unit)\n",
    "                y_i = beta_mean\n",
    "            if treated == 1:\n",
    "                while beta_mean <= 0:\n",
    "                    beta_mean = np.random.normal(loc = 4, scale = 0.5, size = 1)\n",
    "                y_i = np.random.beta(a = beta_mean, b = 80, size = n_samples_per_unit)            \n",
    "                y_i = beta_mean\n",
    "        if x2 == 1:\n",
    "            treated = np.random.binomial(n = 1, p = 0.5, size = 1)\n",
    "            if treated == 0:\n",
    "                while beta_mean <= 0:\n",
    "                    beta_mean = np.random.normal(loc = 1.5, scale = 0.5, size = 1)\n",
    "                y_i = np.random.beta(a = beta_mean, b = 30, size = n_samples_per_unit)\n",
    "                y_i = beta_mean\n",
    "            if treated == 0:\n",
    "                while beta_mean <= 0:\n",
    "                    beta_mean = np.random.normal(loc = 4.5, scale = 0.5, size = 1)\n",
    "                y_i = np.random.beta(a = beta_mean, b = 90, size = n_samples_per_unit)\n",
    "                y_i = beta_mean\n",
    "    if x1 == 1:\n",
    "        x2 = np.random.binomial(n = 1, p = 0.4, size = 1)\n",
    "        if x2 == 0:\n",
    "            treated = np.random.binomial(n = 1, p = 0.4, size = 1)\n",
    "            if treated == 0:\n",
    "                while beta_mean <= 0:\n",
    "                    beta_mean = np.random.normal(loc = 2.5, scale = 0.5, size = 1)\n",
    "                y_i = np.random.beta(a = beta_mean, b = 50, size = n_samples_per_unit)\n",
    "                y_i = beta_mean\n",
    "            if treated == 1:\n",
    "                while beta_mean <= 0:\n",
    "                    beta_mean = np.random.normal(loc = 5, scale = 0.5, size = 1)\n",
    "                y_i = np.random.beta(a = beta_mean, b = 100, size = n_samples_per_unit)\n",
    "                y_i = beta_mean\n",
    "        if x2 == 1:\n",
    "            treated = np.random.binomial(n = 1, p = 0.3, size = 1)\n",
    "            if treated == 0:\n",
    "                while beta_mean <= 0:\n",
    "                    beta_mean = np.random.normal(loc = 1, scale = 0.5, size = 1)\n",
    "                y_i = np.random.beta(a = beta_mean, b = 20, size = n_samples_per_unit)\n",
    "                y_i = beta_mean\n",
    "            if treated == 1:\n",
    "                while beta_mean <= 0:\n",
    "                    beta_mean = np.random.normal(loc = 6, scale = 0.5, size = 1)\n",
    "                y_i = np.random.beta(a = beta_mean, b = 120, size = n_samples_per_unit)\n",
    "                y_i = beta_mean\n",
    "    x3 = np.random.binomial(n = 1, p = 0.5, size = 1)\n",
    "    y_values.append(y_i)\n",
    "    x1_values.append(x1[0])\n",
    "    x2_values.append(x2[0])\n",
    "    x3_values.append(x3[0])\n",
    "    treated_values.append(treated[0])"
   ]
  },
  {
   "cell_type": "raw",
   "metadata": {},
   "source": [
    "Y = np.array(y_values)\n",
    "X_df = pd.DataFrame(\n",
    "    {\n",
    "        'x1' : x1_values,\n",
    "        'x2' : x2_values,\n",
    "#         'x3' : x3_values,\n",
    "        'treatment' : treated_values,\n",
    "    }\n",
    ")"
   ]
  },
  {
   "cell_type": "raw",
   "metadata": {},
   "source": [
    "df = X_df.assign(Y = Y)"
   ]
  },
  {
   "cell_type": "raw",
   "metadata": {},
   "source": [
    "pm_object = pm.malts(outcome = 'Y',\n",
    "    treatment = 'treatment',\n",
    "    data = df,\n",
    "    discrete=['x1', 'x2'],\n",
    "    C=0.01,\n",
    "    k=10,\n",
    "    reweight=False)"
   ]
  },
  {
   "cell_type": "raw",
   "metadata": {},
   "source": [
    "pm_object.fit()"
   ]
  },
  {
   "cell_type": "markdown",
   "metadata": {},
   "source": [
    "# Synthetic Dataset - MALTSPro"
   ]
  },
  {
   "cell_type": "raw",
   "metadata": {},
   "source": [
    "np.random.seed(99)\n",
    "n_units = 1000\n",
    "n_samples_per_unit = 1001\n",
    "y_values = []\n",
    "x1_values = []\n",
    "x2_values = []\n",
    "x3_values = [] # nuisance parameter\n",
    "treated_values = []\n",
    "for i in range(n_units):\n",
    "    beta_mean = -1\n",
    "    x1 = np.random.binomial(n = 1, p = 0.7, size = 1)\n",
    "    if x1 == 0:\n",
    "        x2 = np.random.binomial(n = 1, p = 0.5, size = 1)\n",
    "        if x2 == 0:\n",
    "            treated = np.random.binomial(n = 1, p = 0.6, size = 1)\n",
    "            if treated == 0:\n",
    "                while beta_mean <= 0:\n",
    "                    beta_mean = np.random.normal(loc = 2, scale = 0.5, size = 1)\n",
    "                y_i = np.random.beta(a = beta_mean, b = 40, size = n_samples_per_unit)\n",
    "            if treated == 1:\n",
    "                while beta_mean <= 0:\n",
    "                    beta_mean = np.random.normal(loc = 4, scale = 0.5, size = 1)\n",
    "                y_i = np.random.beta(a = beta_mean, b = 80, size = n_samples_per_unit)            \n",
    "        if x2 == 1:\n",
    "            treated = np.random.binomial(n = 1, p = 0.5, size = 1)\n",
    "            if treated == 0:\n",
    "                while beta_mean <= 0:\n",
    "                    beta_mean = np.random.normal(loc = 1.5, scale = 0.5, size = 1)\n",
    "                y_i = np.random.beta(a = beta_mean, b = 30, size = n_samples_per_unit)\n",
    "            if treated == 0:\n",
    "                while beta_mean <= 0:\n",
    "                    beta_mean = np.random.normal(loc = 4.5, scale = 0.5, size = 1)\n",
    "                y_i = np.random.beta(a = beta_mean, b = 90, size = n_samples_per_unit)\n",
    "    if x1 == 1:\n",
    "        x2 = np.random.binomial(n = 1, p = 0.4, size = 1)\n",
    "        if x2 == 0:\n",
    "            treated = np.random.binomial(n = 1, p = 0.4, size = 1)\n",
    "            if treated == 0:\n",
    "                while beta_mean <= 0:\n",
    "                    beta_mean = np.random.normal(loc = 2.5, scale = 0.5, size = 1)\n",
    "                y_i = np.random.beta(a = beta_mean, b = 50, size = n_samples_per_unit)\n",
    "            if treated == 1:\n",
    "                while beta_mean <= 0:\n",
    "                    beta_mean = np.random.normal(loc = 5, scale = 0.5, size = 1)\n",
    "                y_i = np.random.beta(a = beta_mean, b = 100, size = n_samples_per_unit)\n",
    "        if x2 == 1:\n",
    "            treated = np.random.binomial(n = 1, p = 0.3, size = 1)\n",
    "            if treated == 0:\n",
    "                while beta_mean <= 0:\n",
    "                    beta_mean = np.random.normal(loc = 1, scale = 0.5, size = 1)\n",
    "                y_i = np.random.beta(a = beta_mean, b = 20, size = n_samples_per_unit)\n",
    "            if treated == 1:\n",
    "                while beta_mean <= 0:\n",
    "                    beta_mean = np.random.normal(loc = 6, scale = 0.5, size = 1)\n",
    "                y_i = np.random.beta(a = beta_mean, b = 120, size = n_samples_per_unit)\n",
    "    x3 = np.random.binomial(n = 1, p = 0.5, size = 1)\n",
    "    y_values.append(y_i)\n",
    "    x1_values.append(x1[0])\n",
    "    x2_values.append(x2[0])\n",
    "    x3_values.append(x3[0])\n",
    "    treated_values.append(treated[0])"
   ]
  },
  {
   "cell_type": "raw",
   "metadata": {},
   "source": [
    "Y = np.array(y_values)\n",
    "X_df = pd.DataFrame(\n",
    "    {\n",
    "        'x1' : x1_values,\n",
    "        'x2' : x2_values,\n",
    "#         'x3' : x3_values,\n",
    "        'treatment' : treated_values,\n",
    "    }\n",
    ")"
   ]
  },
  {
   "cell_type": "markdown",
   "metadata": {},
   "source": [
    "# Synthetic dataset used in Linbo's paper"
   ]
  },
  {
   "cell_type": "code",
   "execution_count": 52,
   "metadata": {},
   "outputs": [],
   "source": [
    "def sample_from_qtl_fn(X_i, A_i, treatment_prob_i, error_i, qtl_list):\n",
    "    y_i = []\n",
    "    for qtl in qtl_list:\n",
    "        y_i.append((-treatment_prob_i + A_i + X_i + error_i) * np.sin(np.pi * qtl)/8 + qtl)\n",
    "    return y_i\n",
    "def sample_from_qtl_fn_cf(X_i, A_i, treatment_prob_i, error_i, qtl_list):\n",
    "    y_i = []\n",
    "    for qtl in qtl_list:\n",
    "        y_i.append((-treatment_prob_i + (1 - A_i) + X_i + error_i) * np.sin(np.pi * qtl)/8 + qtl)\n",
    "    return y_i\n",
    "\n",
    "np.random.seed(100)\n",
    "n_units = 1000\n",
    "n_obs_per_unit = 1001\n",
    "feature_x = np.random.uniform(low = -1, high = 1, size = n_units)\n",
    "treatment_probs = np.apply_along_axis(arr = feature_x, \n",
    "                                axis = 0, \n",
    "                                func1d = lambda x: np.exp(x)/(1 + np.exp(x)))\n",
    "treatment = np.array([np.random.binomial(n = 1, p = i) for i in treatment_probs])\n",
    "error = np.random.uniform(low = -0.5, high = 0.5, size = n_units)\n",
    "y_qtls = np.random.uniform(low = 0, high = 1, size = (n_units, n_obs_per_unit))\n",
    "y_obs = []\n",
    "y_cf  = []\n",
    "for i in range(n_units):\n",
    "    y_obs.append(sample_from_qtl_fn(X_i = feature_x[i],\n",
    "                       A_i = treatment[i],\n",
    "                       treatment_prob_i = treatment_probs[i], \n",
    "                       error_i = error[i],\n",
    "                       qtl_list = y_qtls[i, :]))\n",
    "for i in range(n_units):\n",
    "    y_cf.append(sample_from_qtl_fn_cf(X_i = feature_x[i],\n",
    "                       A_i = treatment[i],\n",
    "                       treatment_prob_i = treatment_probs[i], \n",
    "                       error_i = 0, # should be no noise in counterfactual\n",
    "                       qtl_list = y_qtls[i, :]))\n",
    "y_obs = np.array(y_obs)\n",
    "y_cf  = np.array(y_cf)\n",
    "y_mean = y_obs.mean(axis = 1)\n",
    "y_cf_mean = y_cf.mean(axis = 1)"
   ]
  },
  {
   "cell_type": "code",
   "execution_count": 53,
   "metadata": {},
   "outputs": [],
   "source": [
    "malts_data = pd.DataFrame({\n",
    "    'X' : feature_x,\n",
    "    'treatment' : treatment,\n",
    "    'Y' : y_mean\n",
    "})"
   ]
  },
  {
   "cell_type": "code",
   "execution_count": 54,
   "metadata": {},
   "outputs": [],
   "source": [
    "# split into training and testing\n",
    "np.random.seed(1001)\n",
    "train_test_index = np.random.binomial(n = 1, p = 0.2, size = n_units).astype(bool)\n",
    "train = malts_data.assign(keep = train_test_index).query('keep == 0').drop('keep', 1)\n",
    "valid = malts_data.assign(keep = train_test_index).query('keep == 1').drop('keep', 1)\n",
    "X_train = train.reset_index()\n",
    "X_valid = valid.reset_index()\n",
    "X_train = X_train.drop(['index', 'Y'], axis = 1)\n",
    "X_valid = X_valid.drop(['index', 'Y'], axis = 1)\n",
    "y_train = y_obs[~train_test_index, :]\n",
    "y_valid =  y_obs[train_test_index, :]"
   ]
  },
  {
   "cell_type": "code",
   "execution_count": 55,
   "metadata": {},
   "outputs": [],
   "source": [
    "malts = pm.malts(outcome = 'Y',\n",
    "                 treatment = 'treatment',\n",
    "                 data = train,\n",
    "                 discrete = [],\n",
    "                 C = 0.1,\n",
    "                 k = 10,\n",
    "                 reweight = False)"
   ]
  },
  {
   "cell_type": "code",
   "execution_count": 56,
   "metadata": {},
   "outputs": [
    {
     "name": "stdout",
     "output_type": "stream",
     "text": [
      "CPU times: user 842 ms, sys: 118 ms, total: 959 ms\n",
      "Wall time: 184 ms\n"
     ]
    },
    {
     "data": {
      "text/plain": [
       "     fun: 0.5325959499489149\n",
       "     jac: array([2.23517418e-08])\n",
       " message: 'Optimization terminated successfully.'\n",
       "    nfev: 13\n",
       "     nit: 4\n",
       "    njev: 4\n",
       "  status: 0\n",
       " success: True\n",
       "       x: array([8.94069521e-08])"
      ]
     },
     "execution_count": 56,
     "metadata": {},
     "output_type": "execute_result"
    }
   ],
   "source": [
    "%%time\n",
    "malts.fit(method = 'SLSQP')"
   ]
  },
  {
   "cell_type": "code",
   "execution_count": 57,
   "metadata": {},
   "outputs": [],
   "source": [
    "malts_mg = malts.get_matched_groups(valid)\n",
    "malts_cate = malts.CATE(MG = malts_mg)\n",
    "malts_ate = malts_cate.CATE.mean()"
   ]
  },
  {
   "cell_type": "code",
   "execution_count": 58,
   "metadata": {},
   "outputs": [
    {
     "data": {
      "text/html": [
       "<div>\n",
       "<style scoped>\n",
       "    .dataframe tbody tr th:only-of-type {\n",
       "        vertical-align: middle;\n",
       "    }\n",
       "\n",
       "    .dataframe tbody tr th {\n",
       "        vertical-align: top;\n",
       "    }\n",
       "\n",
       "    .dataframe thead th {\n",
       "        text-align: right;\n",
       "    }\n",
       "</style>\n",
       "<table border=\"1\" class=\"dataframe\">\n",
       "  <thead>\n",
       "    <tr style=\"text-align: right;\">\n",
       "      <th></th>\n",
       "      <th></th>\n",
       "      <th>X</th>\n",
       "      <th>Y</th>\n",
       "      <th>distance</th>\n",
       "      <th>treatment</th>\n",
       "    </tr>\n",
       "  </thead>\n",
       "  <tbody>\n",
       "    <tr>\n",
       "      <th rowspan=\"5\" valign=\"top\">10</th>\n",
       "      <th>query</th>\n",
       "      <td>0.782644</td>\n",
       "      <td>0.562108</td>\n",
       "      <td>0.000000e+00</td>\n",
       "      <td>1.0</td>\n",
       "    </tr>\n",
       "    <tr>\n",
       "      <th>35</th>\n",
       "      <td>0.780823</td>\n",
       "      <td>0.585190</td>\n",
       "      <td>2.650076e-20</td>\n",
       "      <td>1.0</td>\n",
       "    </tr>\n",
       "    <tr>\n",
       "      <th>788</th>\n",
       "      <td>0.778956</td>\n",
       "      <td>0.584376</td>\n",
       "      <td>1.087024e-19</td>\n",
       "      <td>1.0</td>\n",
       "    </tr>\n",
       "    <tr>\n",
       "      <th>10</th>\n",
       "      <td>0.782644</td>\n",
       "      <td>0.562108</td>\n",
       "      <td>0.000000e+00</td>\n",
       "      <td>1.0</td>\n",
       "    </tr>\n",
       "    <tr>\n",
       "      <th>197</th>\n",
       "      <td>0.804819</td>\n",
       "      <td>0.589626</td>\n",
       "      <td>3.930734e-18</td>\n",
       "      <td>1.0</td>\n",
       "    </tr>\n",
       "    <tr>\n",
       "      <th>...</th>\n",
       "      <th>...</th>\n",
       "      <td>...</td>\n",
       "      <td>...</td>\n",
       "      <td>...</td>\n",
       "      <td>...</td>\n",
       "    </tr>\n",
       "    <tr>\n",
       "      <th rowspan=\"5\" valign=\"top\">991</th>\n",
       "      <th>577</th>\n",
       "      <td>0.764912</td>\n",
       "      <td>0.482517</td>\n",
       "      <td>1.356055e-16</td>\n",
       "      <td>0.0</td>\n",
       "    </tr>\n",
       "    <tr>\n",
       "      <th>522</th>\n",
       "      <td>0.888377</td>\n",
       "      <td>0.540440</td>\n",
       "      <td>3.676496e-19</td>\n",
       "      <td>0.0</td>\n",
       "    </tr>\n",
       "    <tr>\n",
       "      <th>469</th>\n",
       "      <td>0.630677</td>\n",
       "      <td>0.498935</td>\n",
       "      <td>5.591553e-16</td>\n",
       "      <td>0.0</td>\n",
       "    </tr>\n",
       "    <tr>\n",
       "      <th>429</th>\n",
       "      <td>0.617369</td>\n",
       "      <td>0.472695</td>\n",
       "      <td>6.168423e-16</td>\n",
       "      <td>0.0</td>\n",
       "    </tr>\n",
       "    <tr>\n",
       "      <th>447</th>\n",
       "      <td>0.608782</td>\n",
       "      <td>0.515732</td>\n",
       "      <td>6.555664e-16</td>\n",
       "      <td>0.0</td>\n",
       "    </tr>\n",
       "  </tbody>\n",
       "</table>\n",
       "<p>3864 rows × 4 columns</p>\n",
       "</div>"
      ],
      "text/plain": [
       "                  X         Y      distance  treatment\n",
       "10  query  0.782644  0.562108  0.000000e+00        1.0\n",
       "    35     0.780823  0.585190  2.650076e-20        1.0\n",
       "    788    0.778956  0.584376  1.087024e-19        1.0\n",
       "    10     0.782644  0.562108  0.000000e+00        1.0\n",
       "    197    0.804819  0.589626  3.930734e-18        1.0\n",
       "...             ...       ...           ...        ...\n",
       "991 577    0.764912  0.482517  1.356055e-16        0.0\n",
       "    522    0.888377  0.540440  3.676496e-19        0.0\n",
       "    469    0.630677  0.498935  5.591553e-16        0.0\n",
       "    429    0.617369  0.472695  6.168423e-16        0.0\n",
       "    447    0.608782  0.515732  6.555664e-16        0.0\n",
       "\n",
       "[3864 rows x 4 columns]"
      ]
     },
     "execution_count": 58,
     "metadata": {},
     "output_type": "execute_result"
    }
   ],
   "source": [
    "malts_mg"
   ]
  },
  {
   "cell_type": "code",
   "execution_count": 59,
   "metadata": {},
   "outputs": [],
   "source": [
    "true_ate = ((2 * treatment - 1) * y_mean + (2 * (1 - treatment) - 1) * y_cf_mean).mean()"
   ]
  },
  {
   "cell_type": "code",
   "execution_count": 60,
   "metadata": {},
   "outputs": [],
   "source": [
    "# # check if it will work for pymaltspro\n",
    "# maltspro = pmp.pymaltspro(X = X_train,\n",
    "#                           y = y_train, \n",
    "#                           treatment = 'treatment', \n",
    "#                           discrete = [],\n",
    "#                           C = 0.001,\n",
    "#                           k = 10)\n",
    "# %%time\n",
    "# maltspro.fit(method = 'SLSQP')"
   ]
  },
  {
   "cell_type": "code",
   "execution_count": 61,
   "metadata": {},
   "outputs": [],
   "source": [
    "def get_matched_groups(pmp_self, X_estimation, Y_estimation, k = 10):\n",
    "    Xc = X_estimation[pmp_self.continuous].to_numpy()\n",
    "    Xd = X_estimation[pmp_self.discrete].to_numpy()\n",
    "    Y  = Y_estimation\n",
    "    T  = X_estimation[pmp_self.treatment].to_numpy()\n",
    "    # splitted estimation data into treatment assignments for matching\n",
    "    df_T = X_estimation.loc[X_estimation[pmp_self.treatment] == 1]\n",
    "    df_C = X_estimation.loc[X_estimation[pmp_self.treatment] == 0]\n",
    "    Y_T  = Y_estimation[df_T.index.values, :]\n",
    "    Y_C  = Y_estimation[df_C.index.values, :]\n",
    "    D_T = np.zeros((Y.shape[0],Y_T.shape[0]))\n",
    "    D_C = np.zeros((Y.shape[0],Y_C.shape[0]))\n",
    "    # converting to numpy array\n",
    "    Xc_T = df_T[pmp_self.continuous].to_numpy()\n",
    "    Xc_C = df_C[pmp_self.continuous].to_numpy()\n",
    "    Xd_T = df_T[pmp_self.discrete].to_numpy()\n",
    "    Xd_C = df_C[pmp_self.discrete].to_numpy()\n",
    "\n",
    "    # distance of treated units\n",
    "    Dc_T = (np.ones((Xc_T.shape[0],Xc.shape[1],Xc.shape[0])) * Xc.T - (np.ones((Xc.shape[0],Xc.shape[1],Xc_T.shape[0])) * Xc_T.T).T)\n",
    "    Dc_T = np.sum( (Dc_T * (pmp_self.Mc.reshape(-1,1)) )**2 , axis=1 )\n",
    "    Dd_T = (np.ones((Xd_T.shape[0],Xd.shape[1],Xd.shape[0])) * Xd.T != (np.ones((Xd.shape[0],Xd.shape[1],Xd_T.shape[0])) * Xd_T.T).T )\n",
    "    Dd_T = np.sum( (Dd_T * (pmp_self.Md.reshape(-1,1)) )**2 , axis=1 )\n",
    "    D_T = (Dc_T + Dd_T).T\n",
    "\n",
    "    # distance of control units\n",
    "    Dc_C = (\n",
    "        np.ones(\n",
    "            (\n",
    "                Xc_C.shape[0],\n",
    "                Xc.shape[1],\n",
    "                Xc.shape[0]\n",
    "            )\t\n",
    "        ) * Xc.T - \n",
    "            (\n",
    "        np.ones(\n",
    "            (\n",
    "                Xc.shape[0],\n",
    "                Xc.shape[1],\n",
    "                Xc_C.shape[0])\n",
    "            ) * Xc_C.T).T\n",
    "        )\n",
    "    Dc_C = np.sum( (Dc_C * (pmp_self.Mc.reshape(-1,1)) )**2 , axis=1 )\n",
    "    Dd_C = (\n",
    "        np.ones(\n",
    "            (\n",
    "                Xd_C.shape[0],\n",
    "                Xd.shape[1],\n",
    "                Xd.shape[0])\n",
    "            ) * Xd.T != (\n",
    "        np.ones(\n",
    "            (\n",
    "                Xd.shape[0],\n",
    "                Xd.shape[1],\n",
    "                Xd_C.shape[0]\n",
    "                )\n",
    "            ) * Xd_C.T).T )\n",
    "    Dd_C = np.sum( (Dd_C * (pmp_self.Md.reshape(-1,1)) )**2 , axis=1 )\n",
    "    D_C = (Dc_C + Dd_C).T\n",
    "\n",
    "    MG = {}\n",
    "    index = X_estimation.index\n",
    "    for i in range(Y.shape[0]):\n",
    "        #finding k closest control units to unit i\n",
    "        idx = np.argpartition(D_C[i,:],k)\n",
    "        matched_df_C = pd.DataFrame( \n",
    "            np.hstack( \n",
    "                (\n",
    "                    Xc_C[idx[:k],:], \n",
    "                    Xd_C[idx[:k],:].reshape((k,len(pmp_self.discrete))), \n",
    "                    # Y_C[idx[:k]].reshape(-1,1), \n",
    "                    D_C[i,idx[:k]].reshape(-1,1), \n",
    "                    np.zeros((k,1)) ) \n",
    "                ), \n",
    "            index = df_C.index[idx[:k]],\n",
    "            columns=pmp_self.continuous+pmp_self.discrete+['distance',pmp_self.treatment] \n",
    "            )\n",
    "\n",
    "        #finding k closest treated units to unit i\n",
    "        idx = np.argpartition(D_T[i,:],k)\n",
    "        matched_df_T = pd.DataFrame( \n",
    "            np.hstack( \n",
    "                (\n",
    "                    Xc_T[idx[:k],:], \n",
    "                    Xd_T[idx[:k],:].reshape((k,len(pmp_self.discrete))), \n",
    "                    # Y_T[idx[:k]].reshape(-1,1), \n",
    "                    D_T[i,idx[:k]].reshape(-1,1), \n",
    "                    np.ones((k,1)) ) \n",
    "                ), \n",
    "            index=df_T.index[idx[:k]], \n",
    "            columns=pmp_self.continuous+pmp_self.discrete+['distance',pmp_self.treatment] \n",
    "            )\n",
    "        matched_df = pd.DataFrame(\n",
    "            np.hstack(\n",
    "                (\n",
    "                    Xc[i], \n",
    "                    Xd[i], \n",
    "                    # Y[i], \n",
    "                    0, \n",
    "                    T[i])\n",
    "                ).reshape(1,-1), \n",
    "#             index=['query'], \n",
    "            index = [i],\n",
    "            columns=pmp_self.continuous+pmp_self.discrete+['distance',pmp_self.treatment]\n",
    "            )\n",
    "        matched_df = matched_df.append(matched_df_T.append(matched_df_C))\n",
    "        matched_df['unit_treatment'] = X_estimation.loc[i, pmp_self.treatment]\n",
    "        MG[index[i]] = matched_df\n",
    "#     return MG\n",
    "    MG_X_df = pd.concat(MG).reset_index().rename(columns = {'level_0' : 'unit' ,  'level_1' : 'matched_unit'})\n",
    "    \n",
    "    return MG_X_df\n",
    "\n",
    "\n",
    "def barycenter_imputation(pmp_self, X_estimation, Y_estimation, MG):\n",
    "    Y_counterfactual = []\n",
    "    for i in X_estimation.index.values:\n",
    "        # make a holder list for adding matched units' outcomes\n",
    "        matched_unit_ids = MG.query(f'unit == {i}').query('treatment != unit_treatment').matched_unit.values\n",
    "        matched_unit_outcomes = Y_estimation[matched_unit_ids, :]\n",
    "        y_i_counterfactual = pmp.wasserstein2_barycenter(\n",
    "            sample_array_1_through_n = matched_unit_outcomes, \n",
    "            weights = np.repeat(1/matched_unit_outcomes.shape[0], matched_unit_outcomes.shape[0]),\n",
    "            n_samples_min=pmp_self.n_samples_min\n",
    "        )\n",
    "        Y_counterfactual.append(y_i_counterfactual)\n",
    "    return np.array(Y_counterfactual)\n",
    "\n",
    "\n",
    "def sample_quantile(quantile_fn, quantile):\n",
    "    '''\n",
    "    description\n",
    "    -----------\n",
    "    linearly interpolate quantile function and return value of a given quantile\n",
    "    \n",
    "    parameters\n",
    "    ----------\n",
    "    quantile_fn : numpy array with values of quantile function at specified quantiles\n",
    "    quantile : value of quantile\n",
    "    n_qtls : size of quantile function\n",
    "    \n",
    "    returns\n",
    "    -------\n",
    "    quantile function evaluated at specified quantile\n",
    "    '''\n",
    "    n_qtls = quantile_fn.shape[0] - 1\n",
    "    quantile_index = quantile * n_qtls\n",
    "    quantile_floor = int(np.floor(quantile_index))\n",
    "    quantile_ceil  = int(np.ceil(quantile_index))\n",
    "#     return quantile_floor, quantile_ceil, quantile_index\n",
    "    if quantile_floor == quantile_ceil == quantile_index:\n",
    "        return(quantile_fn[quantile_floor])\n",
    "    else:\n",
    "        return np.sum([quantile_fn[quantile_floor] * (quantile_index - quantile_floor),\n",
    "            quantile_fn[quantile_ceil] * (quantile_ceil - quantile_index)])\n",
    "\n",
    "\n",
    "def ITE(y_estimation, y_cf, n_mc_samples, observed_treatment):\n",
    "    if observed_treatment == 1:\n",
    "        y_treated = np.random.choice(a = y_estimation, size = n_mc_samples, replace = True)\n",
    "        y_control = np.random.choice(a = y_cf, size = n_mc_samples, replace = True)\n",
    "    else:\n",
    "        y_treated = np.random.choice(a = y_cf, size = n_mc_samples, replace = True)\n",
    "        y_control = np.random.choice(a = y_estimation, size = n_mc_samples, replace = True)\n",
    "    return (y_treated > y_control).mean()\n",
    "\n",
    "def linbo_ITE(y_obs, y_cf, observed_treatment, reference_distribution, y_obs_qtl_id = False):\n",
    "    '''\n",
    "    description\n",
    "    -----------\n",
    "    Compute Y_i^-1(1) \\circ \\lambda(t) - Y_i^{-1}(0) \\circ \\lambda(t)\n",
    "    \n",
    "    parameters\n",
    "    ----------\n",
    "    y_obs : array of samples/quantiles for the true observed outcome in estimation set\n",
    "    y_cf : array of quantile function for counterfactual outcome\n",
    "    observed_treatment : boolean that is True iff treated outcome observed, False otherwise\n",
    "    reference_distribution : a 2D array mapping samples from reference distribution to density of sample\n",
    "        -- reference distribution _must_ be continuous\n",
    "        -- col 1 is sample\n",
    "        -- col 2 is prob of observing sample\n",
    "    y_obs_qtl_id : boolean that is True iff y_estimation is a quantile function\n",
    "    '''\n",
    "    quantiles = np.linspace(start = 0, stop = 1, num = y_cf.shape[0])\n",
    "    if y_obs_qtl_id:\n",
    "        y_estimation = y_obs\n",
    "    else:\n",
    "        y_estimation = np.quantile(y_obs, quantiles)\n",
    "    \n",
    "    ylambda_treated = []\n",
    "    ylambda_control = []\n",
    "    if observed_treatment == 1:\n",
    "        for i in reference_distribution[1, :]:\n",
    "            ylambda_treated.append(sample_quantile(quantile_fn = y_estimation, quantile = i))\n",
    "            ylambda_control.append(sample_quantile(quantile_fn = y_cf, quantile = i))\n",
    "    else:\n",
    "        for i in reference_distribution[1, :]:\n",
    "            ylambda_treated.append(sample_quantile(quantile_fn = y_cf, quantile = i))\n",
    "            ylambda_control.append(sample_quantile(quantile_fn = y_estimation, quantile = i))\n",
    "\n",
    "    ylambda_treated = np.array(ylambda_treated)\n",
    "    ylambda_control = np.array(ylambda_control)\n",
    "    ylambda_treated_minus_control = ylambda_treated - ylambda_control\n",
    "    return_array = np.array([reference_distribution[0, :], ylambda_treated_minus_control])\n",
    "    return return_array\n",
    "\n",
    "def mise(y_pred, y_true):\n",
    "    return ((y_pred - y_true)**2).sum(axis = 1).mean()\n",
    "    "
   ]
  },
  {
   "cell_type": "code",
   "execution_count": 62,
   "metadata": {},
   "outputs": [],
   "source": [
    "with open('maltspro_linbo.pkl', 'rb') as f:\n",
    "    maltspro = pickle.load(f)"
   ]
  },
  {
   "cell_type": "code",
   "execution_count": 63,
   "metadata": {},
   "outputs": [],
   "source": [
    "# maltspro.get_matched_groups(X_estimation=X_valid, Y_estimation=list(y_valid), k = 10)\n",
    "mg_df = get_matched_groups(pmp_self = maltspro, X_estimation=X_valid, Y_estimation= y_valid, k =10)"
   ]
  },
  {
   "cell_type": "code",
   "execution_count": 64,
   "metadata": {},
   "outputs": [],
   "source": [
    "y_bary = barycenter_imputation(pmp_self = maltspro, X_estimation=X_valid, Y_estimation= y_valid, MG = mg_df)"
   ]
  },
  {
   "cell_type": "code",
   "execution_count": 93,
   "metadata": {},
   "outputs": [],
   "source": [
    "ite_estimates = []\n",
    "ite_true = []\n",
    "for i in range(y_valid.shape[0]):\n",
    "    ite_estimates.append(ITE(y_estimation = y_valid[i, :], \n",
    "        y_cf = y_bary[i, :], \n",
    "        n_mc_samples = 100000, \n",
    "        observed_treatment = X_valid.loc[0, 'treatment']))\n",
    "    ite_true.append(ITE(y_estimation = y_valid[i, :], \n",
    "        y_cf = y_cf[i, :], \n",
    "        n_mc_samples = 100000, \n",
    "        observed_treatment = X_valid.loc[0, 'treatment']))\n",
    "ite_estimates = np.array(ite_estimates)\n",
    "ite_true = np.array(ite_true)"
   ]
  },
  {
   "cell_type": "code",
   "execution_count": 94,
   "metadata": {},
   "outputs": [
    {
     "data": {
      "text/plain": [
       "0.04968146739130436"
      ]
     },
     "execution_count": 94,
     "metadata": {},
     "output_type": "execute_result"
    }
   ],
   "source": [
    "np.abs(ite_estimates - ite_true).mean()"
   ]
  },
  {
   "cell_type": "code",
   "execution_count": 95,
   "metadata": {},
   "outputs": [],
   "source": [
    "untreated_bary = []\n",
    "for i in range(y_valid.shape[0]):\n",
    "    if X_valid.loc[i, 'treatment'] == 1:\n",
    "        untreated_bary.append(y_valid[i, :])\n",
    "    else:\n",
    "        untreated_bary.append(y_bary[i, :])\n",
    "untreated_bary = pmp.wasserstein2_barycenter(sample_array_1_through_n = np.array(untreated_bary), \n",
    "                                         weights = np.repeat(1/len(untreated_bary), len(untreated_bary)), \n",
    "                                         n_samples_min = maltspro.n_samples_min)\n",
    "untreated_bary_cdf = np.array([untreated_bary, np.linspace(0, 1, untreated_bary.shape[0])])"
   ]
  },
  {
   "cell_type": "code",
   "execution_count": 96,
   "metadata": {},
   "outputs": [],
   "source": [
    "linbo_ate_array = []\n",
    "for i in range(y_valid.shape[0]):\n",
    "    linbo_ite_array = linbo_ITE(y_obs = y_valid[i, :], \n",
    "              y_cf = y_bary[i, :], \n",
    "              reference_distribution = untreated_bary_cdf, \n",
    "              observed_treatment =X_valid.loc[i, 'treatment'], \n",
    "              y_obs_qtl_id = False\n",
    "             )\n",
    "    linbo_ate_array.append(linbo_ite_array[1, :])\n",
    "linbo_ate_array = np.array(linbo_ate_array).mean(axis = 0)"
   ]
  },
  {
   "cell_type": "code",
   "execution_count": 97,
   "metadata": {},
   "outputs": [],
   "source": [
    "linbo_ate_true = np.array([np.sin(np.pi * t)/8 for t in untreated_bary_cdf[0, :]])"
   ]
  },
  {
   "cell_type": "code",
   "execution_count": 106,
   "metadata": {},
   "outputs": [
    {
     "data": {
      "image/png": "[encoded data removed]",
      "text/plain": [
       "<Figure size 432x288 with 1 Axes>"
      ]
     },
     "metadata": {
      "needs_background": "light"
     },
     "output_type": "display_data"
    }
   ],
   "source": [
    "plt.plot(linbo_ite_array[0, :], linbo_ate_array, label = 'MALTSPro Estimated ATE', c = 'green')\n",
    "plt.plot(linbo_ite_array[0, :], linbo_ate_true, label = 'True ATE', c = 'black')\n",
    "# plt.legend()\n",
    "# plt.show()\n",
    "plt.plot(linbo_ite_array[0, :], linbo_ate_wrf_array, label = 'Wasserstein Metalearner ATE', c = 'blue')\n",
    "# plt.plot(linbo_ite_array[0, :], linbo_ate_true, label = 'True ATE', c = 'black')\n",
    "plt.legend()\n",
    "plt.show()"
   ]
  },
  {
   "cell_type": "code",
   "execution_count": 99,
   "metadata": {},
   "outputs": [
    {
     "data": {
      "text/plain": [
       "20.614864293393083"
      ]
     },
     "execution_count": 99,
     "metadata": {},
     "output_type": "execute_result"
    }
   ],
   "source": [
    "np.sqrt(((linbo_ate_true - linbo_ate_array)**2).sum()) * 100"
   ]
  },
  {
   "cell_type": "code",
   "execution_count": 101,
   "metadata": {},
   "outputs": [],
   "source": [
    "wrf = wstree.wass_forest(X = X_train, \n",
    "                   y = y_train,\n",
    "                   y_quantile_id=False,\n",
    "                   min_samples_split=None,\n",
    "                   max_depth=None,\n",
    "                   depth=None,\n",
    "                   node_type=None,\n",
    "                   n_trees=20,\n",
    "                   seed=999,\n",
    "                   n_samples_min=None)"
   ]
  },
  {
   "cell_type": "code",
   "execution_count": 41,
   "metadata": {},
   "outputs": [],
   "source": [
    "y_wrf_bary = wrf.predict(X_valid = X_valid.assign(treatment = 1 - X_valid.treatment))"
   ]
  },
  {
   "cell_type": "code",
   "execution_count": 47,
   "metadata": {},
   "outputs": [],
   "source": [
    "ite_wrf_estimates = []\n",
    "for i in range(y_valid.shape[0]):\n",
    "    ite_wrf_estimates.append(\n",
    "        ITE(y_estimation = y_valid[i, :], \n",
    "        y_cf = y_wrf_bary[i, :],\n",
    "        n_mc_samples = 100000,\n",
    "        observed_treatment = X_valid.treatment[i]))\n",
    "ite_wrf_estimates = np.array(ite_wrf_estimates)"
   ]
  },
  {
   "cell_type": "code",
   "execution_count": 77,
   "metadata": {},
   "outputs": [
    {
     "data": {
      "text/plain": [
       "0.07750423913043479"
      ]
     },
     "execution_count": 77,
     "metadata": {},
     "output_type": "execute_result"
    }
   ],
   "source": [
    "np.abs(ite_wrf_estimates - ite_true).mean()"
   ]
  },
  {
   "cell_type": "code",
   "execution_count": 91,
   "metadata": {},
   "outputs": [],
   "source": [
    "linbo_ate_wrf_array = []\n",
    "for i in range(y_valid.shape[0]):\n",
    "    linbo_ite_wrf_array = linbo_ITE(y_obs = y_valid[i, :], \n",
    "              y_cf = y_wrf_bary[i, :], \n",
    "              reference_distribution = untreated_bary_cdf, \n",
    "              observed_treatment =X_valid.loc[i, 'treatment'], \n",
    "              y_obs_qtl_id = False\n",
    "             )\n",
    "    linbo_ate_wrf_array.append(linbo_ite_wrf_array[1, :])\n",
    "linbo_ate_wrf_array = np.array(linbo_ate_wrf_array).mean(axis = 0)"
   ]
  },
  {
   "cell_type": "code",
   "execution_count": 92,
   "metadata": {},
   "outputs": [
    {
     "data": {
      "text/plain": [
       "105.62425908388089"
      ]
     },
     "execution_count": 92,
     "metadata": {},
     "output_type": "execute_result"
    }
   ],
   "source": [
    "np.sqrt(((linbo_ate_true - linbo_ate_wrf_array)**2).sum()) * 100"
   ]
  },
  {
   "cell_type": "code",
   "execution_count": 35,
   "metadata": {},
   "outputs": [],
   "source": [
    "# %%time\n",
    "# pmp_object = pmp.pymaltspro(X = X_df,\n",
    "#                             y = Y, \n",
    "#                             treatment = 'treatment', \n",
    "#                             discrete = ['x1', 'x2'],\n",
    "#                             C = 0.001,\n",
    "#                             k = 10, )"
   ]
  },
  {
   "cell_type": "code",
   "execution_count": 20,
   "metadata": {},
   "outputs": [
    {
     "name": "stdout",
     "output_type": "stream",
     "text": [
      "CPU times: user 16min 56s, sys: 2.18 s, total: 16min 58s\n",
      "Wall time: 16min 59s\n"
     ]
    },
    {
     "data": {
      "text/plain": [
       "     fun: nan\n",
       "   maxcv: 0.0\n",
       " message: 'NaN result encountered.'\n",
       "    nfev: 3\n",
       "  status: 5\n",
       " success: False\n",
       "       x: array([[2., 2.]])"
      ]
     },
     "execution_count": 20,
     "metadata": {},
     "output_type": "execute_result"
    }
   ],
   "source": [
    "# %%time\n",
    "# pmp_object.fit(M_init = np.array(((1, 1), )))"
   ]
  }
 ],
 "metadata": {
  "kernelspec": {
   "display_name": "Python 3",
   "language": "python",
   "name": "python3"
  },
  "language_info": {
   "codemirror_mode": {
    "name": "ipython",
    "version": 3
   },
   "file_extension": ".py",
   "mimetype": "text/x-python",
   "name": "python",
   "nbconvert_exporter": "python",
   "pygments_lexer": "ipython3",
   "version": "3.7.4"
  }
 },
 "nbformat": 4,
 "nbformat_minor": 2
}
