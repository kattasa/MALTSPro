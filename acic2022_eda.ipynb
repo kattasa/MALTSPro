{
 "cells": [
  {
   "cell_type": "code",
   "execution_count": 27,
   "metadata": {},
   "outputs": [],
   "source": [
    "import pandas as pd\n",
    "import numpy as np\n",
    "import matplotlib.pyplot as plt\n",
    "import os\n",
    "import statsmodels.api as sm"
   ]
  },
  {
   "cell_type": "code",
   "execution_count": 6,
   "metadata": {},
   "outputs": [
    {
     "data": {
      "text/plain": [
       "['acic_practice_year_0455.csv',\n",
       " 'acic_practice_0453.csv',\n",
       " 'acic_patient_year_0476.csv',\n",
       " 'acic_patient_0455.csv',\n",
       " 'acic_practice_year_0453.csv',\n",
       " 'acic_practice_0455.csv',\n",
       " 'acic_patient_year_1082.csv',\n",
       " 'acic_patient_year_0981.csv',\n",
       " 'acic_patient_1082.csv',\n",
       " 'acic_patient_0981.csv',\n",
       " 'acic_practice_year_1082.csv',\n",
       " 'acic_practice_year_0981.csv',\n",
       " 'acic_patient_year_0455.csv',\n",
       " 'acic_practice_year_0476.csv',\n",
       " 'acic_patient_year_0453.csv',\n",
       " 'acic_practice_0476.csv',\n",
       " 'acic_patient_0476.csv']"
      ]
     },
     "execution_count": 6,
     "metadata": {},
     "output_type": "execute_result"
    }
   ],
   "source": [
    "os.listdir('./acic_data/')"
   ]
  },
  {
   "cell_type": "code",
   "execution_count": 12,
   "metadata": {},
   "outputs": [],
   "source": [
    "acic_practice_year_0455 = pd.read_csv('./acic_data/' + 'acic_practice_year_0455' + '.csv').drop('Y', axis = 1)\n",
    "acic_patient_0455 = pd.read_csv('./acic_data/' + 'acic_patient_0455' + '.csv')\n",
    "acic_practice_0455 = pd.read_csv('./acic_data/' + 'acic_practice_0455' + '.csv')\n",
    "acic_patient_year_0455 = pd.read_csv('./acic_data/' + 'acic_patient_year_0455' + '.csv')"
   ]
  },
  {
   "cell_type": "code",
   "execution_count": 28,
   "metadata": {},
   "outputs": [],
   "source": [
    "# merge files\n",
    "acic_0455 = acic_practice_year_0455.merge(acic_practice_0455, on = 'id.practice').\\\n",
    "            merge(acic_patient_0455, on = 'id.practice').\\\n",
    "            merge(acic_patient_year_0455, on = ['id.patient', 'year'])"
   ]
  },
  {
   "cell_type": "code",
   "execution_count": 43,
   "metadata": {},
   "outputs": [],
   "source": [
    "# turn id.practice into a dummy variable\n",
    "acic_0455_dummies = pd.get_dummies(acic_0455, columns=['id.practice', 'X2', 'X4', 'V5'])"
   ]
  },
  {
   "cell_type": "code",
   "execution_count": 45,
   "metadata": {},
   "outputs": [
    {
     "data": {
      "text/plain": [
       "<statsmodels.regression.linear_model.RegressionResultsWrapper at 0x7ffad67921d0>"
      ]
     },
     "execution_count": 45,
     "metadata": {},
     "output_type": "execute_result"
    }
   ],
   "source": [
    "lm = sm.OLS(endog = acic_0455_dummies.Y, exog = acic_0455_dummies.drop('Y', axis = 1))"
   ]
  },
  {
   "cell_type": "code",
   "execution_count": 47,
   "metadata": {},
   "outputs": [],
   "source": [
    "lm_fit = lm.fit()"
   ]
  },
  {
   "cell_type": "code",
   "execution_count": 53,
   "metadata": {},
   "outputs": [
    {
     "data": {
      "text/plain": [
       "887587     633.929767\n",
       "887588     863.037343\n",
       "887589     934.658243\n",
       "887590     885.216197\n",
       "887591      27.903714\n",
       "             ...     \n",
       "888752     954.083816\n",
       "888753    1205.518423\n",
       "888754     158.571884\n",
       "888755     700.122229\n",
       "888756    1147.795585\n",
       "Length: 1170, dtype: float64"
      ]
     },
     "execution_count": 53,
     "metadata": {},
     "output_type": "execute_result"
    }
   ],
   "source": [
    "lm_fit.predict(acic_0455_dummies[acic_0455_dummies['id.practice_355'] == 1].drop('Y', axis = 1))"
   ]
  },
  {
   "cell_type": "code",
   "execution_count": 61,
   "metadata": {},
   "outputs": [
    {
     "data": {
      "text/plain": [
       "104.75520529722252"
      ]
     },
     "execution_count": 61,
     "metadata": {},
     "output_type": "execute_result"
    }
   ],
   "source": [
    "(acic_0455_dummies[acic_0455_dummies['id.practice_355'] == 1].query('year != 1 and year != 2').Y - \n",
    " lm_fit.predict(acic_0455_dummies[acic_0455_dummies['id.practice_355'] == 1].query('year != 1 and year != 2').assign(Z = 0).drop('Y', axis = 1))\n",
    ").mean()\n",
    "\n"
   ]
  },
  {
   "cell_type": "code",
   "execution_count": null,
   "metadata": {},
   "outputs": [],
   "source": []
  }
 ],
 "metadata": {
  "kernelspec": {
   "display_name": "Python 3",
   "language": "python",
   "name": "python3"
  },
  "language_info": {
   "codemirror_mode": {
    "name": "ipython",
    "version": 3
   },
   "file_extension": ".py",
   "mimetype": "text/x-python",
   "name": "python",
   "nbconvert_exporter": "python",
   "pygments_lexer": "ipython3",
   "version": "3.7.4"
  }
 },
 "nbformat": 4,
 "nbformat_minor": 2
}
