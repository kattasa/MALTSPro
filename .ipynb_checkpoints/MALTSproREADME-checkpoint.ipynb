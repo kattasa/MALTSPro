{
 "cells": [
  {
   "cell_type": "code",
   "execution_count": 1,
   "metadata": {},
   "outputs": [],
   "source": [
    "import pymaltspro as pmp\n",
    "import pymalts as pm\n",
    "import pandas as pd\n",
    "import numpy as np\n",
    "import matplotlib.pyplot as plt\n",
    "import wasserstein_trees as wstree"
   ]
  },
  {
   "cell_type": "markdown",
   "metadata": {},
   "source": [
    "# Synthetic dataset -- MALTS"
   ]
  },
  {
   "cell_type": "code",
   "execution_count": 2,
   "metadata": {},
   "outputs": [],
   "source": [
    "np.random.seed(99)\n",
    "n_units = 1000\n",
    "n_samples_per_unit = 1001\n",
    "y_values = []\n",
    "x1_values = []\n",
    "x2_values = []\n",
    "x3_values = [] # nuisance parameter\n",
    "treated_values = []\n",
    "for i in range(n_units):\n",
    "    beta_mean = -1\n",
    "    x1 = np.random.binomial(n = 1, p = 0.7, size = 1)\n",
    "    if x1 == 0:\n",
    "        x2 = np.random.binomial(n = 1, p = 0.5, size = 1)\n",
    "        if x2 == 0:\n",
    "            treated = np.random.binomial(n = 1, p = 0.6, size = 1)\n",
    "            if treated == 0:\n",
    "                while beta_mean <= 0:\n",
    "                    beta_mean = np.random.normal(loc = 2, scale = 0.5, size = 1)\n",
    "                y_i = np.random.beta(a = beta_mean, b = 40, size = n_samples_per_unit)\n",
    "                y_i = beta_mean\n",
    "            if treated == 1:\n",
    "                while beta_mean <= 0:\n",
    "                    beta_mean = np.random.normal(loc = 4, scale = 0.5, size = 1)\n",
    "                y_i = np.random.beta(a = beta_mean, b = 80, size = n_samples_per_unit)            \n",
    "                y_i = beta_mean\n",
    "        if x2 == 1:\n",
    "            treated = np.random.binomial(n = 1, p = 0.5, size = 1)\n",
    "            if treated == 0:\n",
    "                while beta_mean <= 0:\n",
    "                    beta_mean = np.random.normal(loc = 1.5, scale = 0.5, size = 1)\n",
    "                y_i = np.random.beta(a = beta_mean, b = 30, size = n_samples_per_unit)\n",
    "                y_i = beta_mean\n",
    "            if treated == 0:\n",
    "                while beta_mean <= 0:\n",
    "                    beta_mean = np.random.normal(loc = 4.5, scale = 0.5, size = 1)\n",
    "                y_i = np.random.beta(a = beta_mean, b = 90, size = n_samples_per_unit)\n",
    "                y_i = beta_mean\n",
    "    if x1 == 1:\n",
    "        x2 = np.random.binomial(n = 1, p = 0.4, size = 1)\n",
    "        if x2 == 0:\n",
    "            treated = np.random.binomial(n = 1, p = 0.4, size = 1)\n",
    "            if treated == 0:\n",
    "                while beta_mean <= 0:\n",
    "                    beta_mean = np.random.normal(loc = 2.5, scale = 0.5, size = 1)\n",
    "                y_i = np.random.beta(a = beta_mean, b = 50, size = n_samples_per_unit)\n",
    "                y_i = beta_mean\n",
    "            if treated == 1:\n",
    "                while beta_mean <= 0:\n",
    "                    beta_mean = np.random.normal(loc = 5, scale = 0.5, size = 1)\n",
    "                y_i = np.random.beta(a = beta_mean, b = 100, size = n_samples_per_unit)\n",
    "                y_i = beta_mean\n",
    "        if x2 == 1:\n",
    "            treated = np.random.binomial(n = 1, p = 0.3, size = 1)\n",
    "            if treated == 0:\n",
    "                while beta_mean <= 0:\n",
    "                    beta_mean = np.random.normal(loc = 1, scale = 0.5, size = 1)\n",
    "                y_i = np.random.beta(a = beta_mean, b = 20, size = n_samples_per_unit)\n",
    "                y_i = beta_mean\n",
    "            if treated == 1:\n",
    "                while beta_mean <= 0:\n",
    "                    beta_mean = np.random.normal(loc = 6, scale = 0.5, size = 1)\n",
    "                y_i = np.random.beta(a = beta_mean, b = 120, size = n_samples_per_unit)\n",
    "                y_i = beta_mean\n",
    "    x3 = np.random.binomial(n = 1, p = 0.5, size = 1)\n",
    "    y_values.append(y_i)\n",
    "    x1_values.append(x1[0])\n",
    "    x2_values.append(x2[0])\n",
    "    x3_values.append(x3[0])\n",
    "    treated_values.append(treated[0])"
   ]
  },
  {
   "cell_type": "code",
   "execution_count": 3,
   "metadata": {},
   "outputs": [],
   "source": [
    "Y = np.array(y_values)\n",
    "X_df = pd.DataFrame(\n",
    "    {\n",
    "        'x1' : x1_values,\n",
    "        'x2' : x2_values,\n",
    "#         'x3' : x3_values,\n",
    "        'treatment' : treated_values,\n",
    "    }\n",
    ")"
   ]
  },
  {
   "cell_type": "code",
   "execution_count": 4,
   "metadata": {},
   "outputs": [],
   "source": [
    "df = X_df.assign(Y = Y)"
   ]
  },
  {
   "cell_type": "code",
   "execution_count": 6,
   "metadata": {},
   "outputs": [],
   "source": [
    "pm_object = pm.malts(outcome = 'Y',\n",
    "    treatment = 'treatment',\n",
    "    data = df,\n",
    "    discrete=['x1', 'x2'],\n",
    "    C=0.01,\n",
    "    k=10,\n",
    "    reweight=False)"
   ]
  },
  {
   "cell_type": "code",
   "execution_count": 10,
   "metadata": {},
   "outputs": [
    {
     "ename": "ValueError",
     "evalue": "Unknown solver SPQLS",
     "output_type": "error",
     "traceback": [
      "\u001b[0;31m---------------------------------------------------------------------------\u001b[0m",
      "\u001b[0;31mValueError\u001b[0m                                Traceback (most recent call last)",
      "\u001b[0;32m<ipython-input-10-aeb9582eef3f>\u001b[0m in \u001b[0;36m<module>\u001b[0;34m\u001b[0m\n\u001b[0;32m----> 1\u001b[0;31m \u001b[0mpm_object\u001b[0m\u001b[0;34m.\u001b[0m\u001b[0mfit\u001b[0m\u001b[0;34m(\u001b[0m\u001b[0mmethod\u001b[0m \u001b[0;34m=\u001b[0m \u001b[0;34m'SPQLS'\u001b[0m\u001b[0;34m)\u001b[0m\u001b[0;34m\u001b[0m\u001b[0;34m\u001b[0m\u001b[0m\n\u001b[0m",
      "\u001b[0;32m~/Dropbox/ame/dmalts/MALTSPro/pymalts.py\u001b[0m in \u001b[0;36mfit\u001b[0;34m(self, method)\u001b[0m\n\u001b[1;32m    112\u001b[0m         \u001b[0;31m# np.random.seed(0)\u001b[0m\u001b[0;34m\u001b[0m\u001b[0;34m\u001b[0m\u001b[0;34m\u001b[0m\u001b[0m\n\u001b[1;32m    113\u001b[0m         \u001b[0mM_init\u001b[0m \u001b[0;34m=\u001b[0m \u001b[0mnp\u001b[0m\u001b[0;34m.\u001b[0m\u001b[0mones\u001b[0m\u001b[0;34m(\u001b[0m\u001b[0;34m(\u001b[0m\u001b[0mself\u001b[0m\u001b[0;34m.\u001b[0m\u001b[0mp\u001b[0m\u001b[0;34m,\u001b[0m\u001b[0;34m)\u001b[0m\u001b[0;34m)\u001b[0m\u001b[0;34m\u001b[0m\u001b[0;34m\u001b[0m\u001b[0m\n\u001b[0;32m--> 114\u001b[0;31m         \u001b[0mres\u001b[0m \u001b[0;34m=\u001b[0m \u001b[0mopt\u001b[0m\u001b[0;34m.\u001b[0m\u001b[0mminimize\u001b[0m\u001b[0;34m(\u001b[0m \u001b[0mself\u001b[0m\u001b[0;34m.\u001b[0m\u001b[0mobjective\u001b[0m\u001b[0;34m,\u001b[0m \u001b[0mx0\u001b[0m\u001b[0;34m=\u001b[0m\u001b[0mM_init\u001b[0m\u001b[0;34m,\u001b[0m\u001b[0mmethod\u001b[0m\u001b[0;34m=\u001b[0m\u001b[0mmethod\u001b[0m \u001b[0;34m)\u001b[0m\u001b[0;34m\u001b[0m\u001b[0;34m\u001b[0m\u001b[0m\n\u001b[0m\u001b[1;32m    115\u001b[0m         \u001b[0mself\u001b[0m\u001b[0;34m.\u001b[0m\u001b[0mM\u001b[0m \u001b[0;34m=\u001b[0m \u001b[0mres\u001b[0m\u001b[0;34m.\u001b[0m\u001b[0mx\u001b[0m\u001b[0;34m\u001b[0m\u001b[0;34m\u001b[0m\u001b[0m\n\u001b[1;32m    116\u001b[0m         \u001b[0mself\u001b[0m\u001b[0;34m.\u001b[0m\u001b[0mMc\u001b[0m \u001b[0;34m=\u001b[0m \u001b[0mself\u001b[0m\u001b[0;34m.\u001b[0m\u001b[0mM\u001b[0m\u001b[0;34m[\u001b[0m\u001b[0;34m:\u001b[0m\u001b[0mlen\u001b[0m\u001b[0;34m(\u001b[0m\u001b[0mself\u001b[0m\u001b[0;34m.\u001b[0m\u001b[0mcontinuous\u001b[0m\u001b[0;34m)\u001b[0m\u001b[0;34m]\u001b[0m\u001b[0;34m\u001b[0m\u001b[0;34m\u001b[0m\u001b[0m\n",
      "\u001b[0;32m~/opt/anaconda3/lib/python3.7/site-packages/scipy/optimize/_minimize.py\u001b[0m in \u001b[0;36mminimize\u001b[0;34m(fun, x0, args, method, jac, hess, hessp, bounds, constraints, tol, callback, options)\u001b[0m\n\u001b[1;32m    634\u001b[0m                                            callback=callback, **options)\n\u001b[1;32m    635\u001b[0m     \u001b[0;32melse\u001b[0m\u001b[0;34m:\u001b[0m\u001b[0;34m\u001b[0m\u001b[0;34m\u001b[0m\u001b[0m\n\u001b[0;32m--> 636\u001b[0;31m         \u001b[0;32mraise\u001b[0m \u001b[0mValueError\u001b[0m\u001b[0;34m(\u001b[0m\u001b[0;34m'Unknown solver %s'\u001b[0m \u001b[0;34m%\u001b[0m \u001b[0mmethod\u001b[0m\u001b[0;34m)\u001b[0m\u001b[0;34m\u001b[0m\u001b[0;34m\u001b[0m\u001b[0m\n\u001b[0m\u001b[1;32m    637\u001b[0m \u001b[0;34m\u001b[0m\u001b[0m\n\u001b[1;32m    638\u001b[0m \u001b[0;34m\u001b[0m\u001b[0m\n",
      "\u001b[0;31mValueError\u001b[0m: Unknown solver SPQLS"
     ]
    }
   ],
   "source": [
    "pm_object.fit(method = 'SPQLS')"
   ]
  },
  {
   "cell_type": "markdown",
   "metadata": {},
   "source": [
    "# Synthetic Dataset - MALTSPro"
   ]
  },
  {
   "cell_type": "code",
   "execution_count": null,
   "metadata": {},
   "outputs": [],
   "source": [
    "np.random.seed(99)\n",
    "n_units = 1000\n",
    "n_samples_per_unit = 1001\n",
    "y_values = []\n",
    "x1_values = []\n",
    "x2_values = []\n",
    "x3_values = [] # nuisance parameter\n",
    "treated_values = []\n",
    "for i in range(n_units):\n",
    "    beta_mean = -1\n",
    "    x1 = np.random.binomial(n = 1, p = 0.7, size = 1)\n",
    "    if x1 == 0:\n",
    "        x2 = np.random.binomial(n = 1, p = 0.5, size = 1)\n",
    "        if x2 == 0:\n",
    "            treated = np.random.binomial(n = 1, p = 0.6, size = 1)\n",
    "            if treated == 0:\n",
    "                while beta_mean <= 0:\n",
    "                    beta_mean = np.random.normal(loc = 2, scale = 0.5, size = 1)\n",
    "                y_i = np.random.beta(a = beta_mean, b = 40, size = n_samples_per_unit)\n",
    "            if treated == 1:\n",
    "                while beta_mean <= 0:\n",
    "                    beta_mean = np.random.normal(loc = 4, scale = 0.5, size = 1)\n",
    "                y_i = np.random.beta(a = beta_mean, b = 80, size = n_samples_per_unit)            \n",
    "        if x2 == 1:\n",
    "            treated = np.random.binomial(n = 1, p = 0.5, size = 1)\n",
    "            if treated == 0:\n",
    "                while beta_mean <= 0:\n",
    "                    beta_mean = np.random.normal(loc = 1.5, scale = 0.5, size = 1)\n",
    "                y_i = np.random.beta(a = beta_mean, b = 30, size = n_samples_per_unit)\n",
    "            if treated == 0:\n",
    "                while beta_mean <= 0:\n",
    "                    beta_mean = np.random.normal(loc = 4.5, scale = 0.5, size = 1)\n",
    "                y_i = np.random.beta(a = beta_mean, b = 90, size = n_samples_per_unit)\n",
    "    if x1 == 1:\n",
    "        x2 = np.random.binomial(n = 1, p = 0.4, size = 1)\n",
    "        if x2 == 0:\n",
    "            treated = np.random.binomial(n = 1, p = 0.4, size = 1)\n",
    "            if treated == 0:\n",
    "                while beta_mean <= 0:\n",
    "                    beta_mean = np.random.normal(loc = 2.5, scale = 0.5, size = 1)\n",
    "                y_i = np.random.beta(a = beta_mean, b = 50, size = n_samples_per_unit)\n",
    "            if treated == 1:\n",
    "                while beta_mean <= 0:\n",
    "                    beta_mean = np.random.normal(loc = 5, scale = 0.5, size = 1)\n",
    "                y_i = np.random.beta(a = beta_mean, b = 100, size = n_samples_per_unit)\n",
    "        if x2 == 1:\n",
    "            treated = np.random.binomial(n = 1, p = 0.3, size = 1)\n",
    "            if treated == 0:\n",
    "                while beta_mean <= 0:\n",
    "                    beta_mean = np.random.normal(loc = 1, scale = 0.5, size = 1)\n",
    "                y_i = np.random.beta(a = beta_mean, b = 20, size = n_samples_per_unit)\n",
    "            if treated == 1:\n",
    "                while beta_mean <= 0:\n",
    "                    beta_mean = np.random.normal(loc = 6, scale = 0.5, size = 1)\n",
    "                y_i = np.random.beta(a = beta_mean, b = 120, size = n_samples_per_unit)\n",
    "    x3 = np.random.binomial(n = 1, p = 0.5, size = 1)\n",
    "    y_values.append(y_i)\n",
    "    x1_values.append(x1[0])\n",
    "    x2_values.append(x2[0])\n",
    "    x3_values.append(x3[0])\n",
    "    treated_values.append(treated[0])"
   ]
  },
  {
   "cell_type": "code",
   "execution_count": null,
   "metadata": {},
   "outputs": [],
   "source": [
    "Y = np.array(y_values)\n",
    "X_df = pd.DataFrame(\n",
    "    {\n",
    "        'x1' : x1_values,\n",
    "        'x2' : x2_values,\n",
    "#         'x3' : x3_values,\n",
    "        'treatment' : treated_values,\n",
    "    }\n",
    ")"
   ]
  },
  {
   "cell_type": "code",
   "execution_count": 19,
   "metadata": {},
   "outputs": [
    {
     "name": "stdout",
     "output_type": "stream",
     "text": [
      "CPU times: user 651 ms, sys: 36.6 ms, total: 687 ms\n",
      "Wall time: 692 ms\n"
     ]
    }
   ],
   "source": [
    "%%time\n",
    "pmp_object = pmp.pymaltspro(X = X_df,\n",
    "                            y = Y, \n",
    "                            treatment = 'treatment', \n",
    "                            discrete = ['x1', 'x2'],\n",
    "                            C = 0.001,\n",
    "                            k = 10)"
   ]
  },
  {
   "cell_type": "code",
   "execution_count": 20,
   "metadata": {},
   "outputs": [
    {
     "name": "stdout",
     "output_type": "stream",
     "text": [
      "CPU times: user 16min 56s, sys: 2.18 s, total: 16min 58s\n",
      "Wall time: 16min 59s\n"
     ]
    },
    {
     "data": {
      "text/plain": [
       "     fun: nan\n",
       "   maxcv: 0.0\n",
       " message: 'NaN result encountered.'\n",
       "    nfev: 3\n",
       "  status: 5\n",
       " success: False\n",
       "       x: array([[2., 2.]])"
      ]
     },
     "execution_count": 20,
     "metadata": {},
     "output_type": "execute_result"
    }
   ],
   "source": [
    "%%time\n",
    "pmp_object.fit(M_init = np.array(((1, 1), )))"
   ]
  }
 ],
 "metadata": {
  "kernelspec": {
   "display_name": "Python 3",
   "language": "python",
   "name": "python3"
  },
  "language_info": {
   "codemirror_mode": {
    "name": "ipython",
    "version": 3
   },
   "file_extension": ".py",
   "mimetype": "text/x-python",
   "name": "python",
   "nbconvert_exporter": "python",
   "pygments_lexer": "ipython3",
   "version": "3.7.4"
  }
 },
 "nbformat": 4,
 "nbformat_minor": 2
}
